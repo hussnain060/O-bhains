{
  "nbformat": 4,
  "nbformat_minor": 0,
  "metadata": {
    "colab": {
      "name": "Data_access.ipynb",
      "provenance": [],
      "collapsed_sections": [],
      "include_colab_link": true
    },
    "kernelspec": {
      "name": "python3",
      "display_name": "Python 3"
    },
    "language_info": {
      "name": "python"
    }
  },
  "cells": [
    {
      "cell_type": "markdown",
      "metadata": {
        "id": "view-in-github",
        "colab_type": "text"
      },
      "source": [
        "<a href=\"https://colab.research.google.com/github/hussnain060/O-bhains/blob/main/Data_access.ipynb\" target=\"_parent\"><img src=\"https://colab.research.google.com/assets/colab-badge.svg\" alt=\"Open In Colab\"/></a>"
      ]
    },
    {
      "cell_type": "code",
      "metadata": {
        "id": "wlTLzKMI_WfQ"
      },
      "source": [
        "import pandas as pd\n",
        "import numpy as np\n",
        "import gspread\n",
        "from gspread_dataframe import get_as_dataframe,set_with_dataframe\n",
        "from google.colab import auth\n",
        "from oauth2client.client import GoogleCredentials"
      ],
      "execution_count": 1,
      "outputs": []
    },
    {
      "cell_type": "code",
      "metadata": {
        "id": "c56SVj-fSbNG"
      },
      "source": [
        "auth.authenticate_user()\n",
        "gc = gspread.authorize(GoogleCredentials.get_application_default())"
      ],
      "execution_count": 2,
      "outputs": []
    },
    {
      "cell_type": "markdown",
      "metadata": {
        "id": "bA6V6H4uicJn"
      },
      "source": [
        "***When below section run ... a url show click on url and login with your account it... copy sign in key and paste it into text box and press enter***\n"
      ]
    },
    {
      "cell_type": "code",
      "metadata": {
        "id": "da5M8WUiSSLP"
      },
      "source": [
        "sheet_url = \"https://docs.google.com/spreadsheets/d/1AJSGHiLQvwlPYY7RPyS7nlYwLmof70DC-NVHT-o7QtE/edit?usp=drivesdk\"\n",
        "sheet_id = gc.open_by_url(sheet_url)"
      ],
      "execution_count": 6,
      "outputs": []
    },
    {
      "cell_type": "code",
      "metadata": {
        "id": "MZK_xF0fWj0r"
      },
      "source": [
        "ws = sheet_id.worksheet(\"Sheet1\")"
      ],
      "execution_count": 4,
      "outputs": []
    },
    {
      "cell_type": "code",
      "metadata": {
        "id": "zYajSXL6W7Dz"
      },
      "source": [
        "sheet1_df = get_as_dataframe(ws)\n",
        "sheet1_df = sheet1_df.iloc[:,:6]\n",
        "sheet1_df"
      ],
      "execution_count": null,
      "outputs": []
    },
    {
      "cell_type": "code",
      "metadata": {
        "id": "KgB7yU5wXEcz"
      },
      "source": [
        ""
      ],
      "execution_count": null,
      "outputs": []
    }
  ]
}