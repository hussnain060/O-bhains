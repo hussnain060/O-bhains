{
  "nbformat": 4,
  "nbformat_minor": 0,
  "metadata": {
    "colab": {
      "name": "analysis.ipynb",
      "provenance": [],
      "authorship_tag": "ABX9TyM1h9oX7Bo9SBvkb6Jqw3I1",
      "include_colab_link": true
    },
    "kernelspec": {
      "name": "python3",
      "display_name": "Python 3"
    },
    "language_info": {
      "name": "python"
    }
  },
  "cells": [
    {
      "cell_type": "markdown",
      "metadata": {
        "id": "view-in-github",
        "colab_type": "text"
      },
      "source": [
        "<a href=\"https://colab.research.google.com/github/hussnain669/O-bhains/blob/main/analysis.ipynb\" target=\"_parent\"><img src=\"https://colab.research.google.com/assets/colab-badge.svg\" alt=\"Open In Colab\"/></a>"
      ]
    },
    {
      "cell_type": "code",
      "metadata": {
        "id": "TuIjICv9gDz8"
      },
      "source": [
        "import numpy as np\n",
        "import pandas as pd\n",
        "import matplotlib.pyplot as plt"
      ],
      "execution_count": 47,
      "outputs": []
    },
    {
      "cell_type": "code",
      "metadata": {
        "colab": {
          "base_uri": "https://localhost:8080/",
          "height": 424
        },
        "id": "I3TklnYBgaBY",
        "outputId": "a8518c78-25c3-480e-b632-d06ff3a6980d"
      },
      "source": [
        "df = pd.read_excel(\"test.xlsx\")\n",
        "df"
      ],
      "execution_count": 48,
      "outputs": [
        {
          "output_type": "execute_result",
          "data": {
            "text/html": [
              "<div>\n",
              "<style scoped>\n",
              "    .dataframe tbody tr th:only-of-type {\n",
              "        vertical-align: middle;\n",
              "    }\n",
              "\n",
              "    .dataframe tbody tr th {\n",
              "        vertical-align: top;\n",
              "    }\n",
              "\n",
              "    .dataframe thead th {\n",
              "        text-align: right;\n",
              "    }\n",
              "</style>\n",
              "<table border=\"1\" class=\"dataframe\">\n",
              "  <thead>\n",
              "    <tr style=\"text-align: right;\">\n",
              "      <th></th>\n",
              "      <th>Date</th>\n",
              "      <th>Time</th>\n",
              "      <th>Temperature</th>\n",
              "      <th>X_axix</th>\n",
              "      <th>Y_axix</th>\n",
              "      <th>Z_axix</th>\n",
              "    </tr>\n",
              "  </thead>\n",
              "  <tbody>\n",
              "    <tr>\n",
              "      <th>0</th>\n",
              "      <td>2021-10-04</td>\n",
              "      <td>12:00:00</td>\n",
              "      <td>24.444444</td>\n",
              "      <td>-87.00</td>\n",
              "      <td>6.90</td>\n",
              "      <td>-9.56</td>\n",
              "    </tr>\n",
              "    <tr>\n",
              "      <th>1</th>\n",
              "      <td>2021-10-04</td>\n",
              "      <td>12:01:00</td>\n",
              "      <td>24.444444</td>\n",
              "      <td>-87.00</td>\n",
              "      <td>6.90</td>\n",
              "      <td>-9.56</td>\n",
              "    </tr>\n",
              "    <tr>\n",
              "      <th>2</th>\n",
              "      <td>2021-10-04</td>\n",
              "      <td>12:02:00</td>\n",
              "      <td>24.444444</td>\n",
              "      <td>0.79</td>\n",
              "      <td>6.90</td>\n",
              "      <td>-9.56</td>\n",
              "    </tr>\n",
              "    <tr>\n",
              "      <th>3</th>\n",
              "      <td>2021-10-04</td>\n",
              "      <td>12:03:00</td>\n",
              "      <td>33.327778</td>\n",
              "      <td>0.77</td>\n",
              "      <td>-0.91</td>\n",
              "      <td>9.82</td>\n",
              "    </tr>\n",
              "    <tr>\n",
              "      <th>4</th>\n",
              "      <td>2021-10-04</td>\n",
              "      <td>12:04:00</td>\n",
              "      <td>33.411111</td>\n",
              "      <td>0.94</td>\n",
              "      <td>-0.92</td>\n",
              "      <td>9.79</td>\n",
              "    </tr>\n",
              "    <tr>\n",
              "      <th>...</th>\n",
              "      <td>...</td>\n",
              "      <td>...</td>\n",
              "      <td>...</td>\n",
              "      <td>...</td>\n",
              "      <td>...</td>\n",
              "      <td>...</td>\n",
              "    </tr>\n",
              "    <tr>\n",
              "      <th>355</th>\n",
              "      <td>2021-10-04</td>\n",
              "      <td>17:55:00</td>\n",
              "      <td>33.650000</td>\n",
              "      <td>0.35</td>\n",
              "      <td>1.69</td>\n",
              "      <td>9.84</td>\n",
              "    </tr>\n",
              "    <tr>\n",
              "      <th>356</th>\n",
              "      <td>2021-10-04</td>\n",
              "      <td>17:56:00</td>\n",
              "      <td>33.788889</td>\n",
              "      <td>0.57</td>\n",
              "      <td>1.54</td>\n",
              "      <td>9.80</td>\n",
              "    </tr>\n",
              "    <tr>\n",
              "      <th>357</th>\n",
              "      <td>2021-10-04</td>\n",
              "      <td>17:57:00</td>\n",
              "      <td>33.850000</td>\n",
              "      <td>0.35</td>\n",
              "      <td>1.64</td>\n",
              "      <td>9.68</td>\n",
              "    </tr>\n",
              "    <tr>\n",
              "      <th>358</th>\n",
              "      <td>2021-10-04</td>\n",
              "      <td>17:58:00</td>\n",
              "      <td>33.788889</td>\n",
              "      <td>0.37</td>\n",
              "      <td>1.52</td>\n",
              "      <td>9.80</td>\n",
              "    </tr>\n",
              "    <tr>\n",
              "      <th>359</th>\n",
              "      <td>2021-10-04</td>\n",
              "      <td>17:59:00</td>\n",
              "      <td>33.711111</td>\n",
              "      <td>0.49</td>\n",
              "      <td>1.44</td>\n",
              "      <td>9.78</td>\n",
              "    </tr>\n",
              "  </tbody>\n",
              "</table>\n",
              "<p>360 rows × 6 columns</p>\n",
              "</div>"
            ],
            "text/plain": [
              "          Date      Time  Temperature  X_axix  Y_axix  Z_axix\n",
              "0   2021-10-04  12:00:00    24.444444  -87.00    6.90   -9.56\n",
              "1   2021-10-04  12:01:00    24.444444  -87.00    6.90   -9.56\n",
              "2   2021-10-04  12:02:00    24.444444    0.79    6.90   -9.56\n",
              "3   2021-10-04  12:03:00    33.327778    0.77   -0.91    9.82\n",
              "4   2021-10-04  12:04:00    33.411111    0.94   -0.92    9.79\n",
              "..         ...       ...          ...     ...     ...     ...\n",
              "355 2021-10-04  17:55:00    33.650000    0.35    1.69    9.84\n",
              "356 2021-10-04  17:56:00    33.788889    0.57    1.54    9.80\n",
              "357 2021-10-04  17:57:00    33.850000    0.35    1.64    9.68\n",
              "358 2021-10-04  17:58:00    33.788889    0.37    1.52    9.80\n",
              "359 2021-10-04  17:59:00    33.711111    0.49    1.44    9.78\n",
              "\n",
              "[360 rows x 6 columns]"
            ]
          },
          "metadata": {},
          "execution_count": 48
        }
      ]
    },
    {
      "cell_type": "code",
      "metadata": {
        "id": "CJeeXp1RggT-"
      },
      "source": [
        "temperature_avg = df.Temperature.sum()/len(df.Temperature)\n",
        "temperature_avg"
      ],
      "execution_count": null,
      "outputs": []
    },
    {
      "cell_type": "code",
      "metadata": {
        "colab": {
          "base_uri": "https://localhost:8080/",
          "height": 351
        },
        "id": "dluyfSTcJ1_a",
        "outputId": "2e37e6b2-8ce6-4f1c-a0ef-fabb9f0ab87b"
      },
      "source": [
        "x = df['Time'].astype(str)\n",
        "y = df['Temperature']\n",
        "plt.figure(figsize=(9,5))\n",
        "plt.plot(x,y)\n",
        "plt.xlabel('Time')\n",
        "plt.ylabel('Temperature')\n"
      ],
      "execution_count": 60,
      "outputs": [
        {
          "output_type": "execute_result",
          "data": {
            "text/plain": [
              "Text(0, 0.5, 'Temperature')"
            ]
          },
          "metadata": {},
          "execution_count": 60
        },
        {
          "output_type": "display_data",
          "data": {
            "image/png": "[encoded data removed]",
            "text/plain": [
              "<Figure size 648x360 with 1 Axes>"
            ]
          },
          "metadata": {
            "needs_background": "light"
          }
        }
      ]
    },
    {
      "cell_type": "code",
      "metadata": {
        "colab": {
          "base_uri": "https://localhost:8080/",
          "height": 296
        },
        "id": "262YdAfeOkcx",
        "outputId": "d79e3d67-8dce-4c94-b45a-057c98605164"
      },
      "source": [
        "tt = df['Time'].astype(str)\n",
        "fig, ax = plt.subplots()\n",
        "ax.plot(tt, df.X_axix, label='X-axis')\n",
        "ax.plot(tt,df.Y_axix, label='Y-axis')\n",
        "ax.plot(tt,df.Z_axix, label='Z-axis')\n",
        "ax.set_xlabel(\"Time\")\n",
        "ax.set_ylabel(\"Axis\")\n",
        "ax.legend()"
      ],
      "execution_count": 81,
      "outputs": [
        {
          "output_type": "execute_result",
          "data": {
            "text/plain": [
              "<matplotlib.legend.Legend at 0x7f807d39e650>"
            ]
          },
          "metadata": {},
          "execution_count": 81
        },
        {
          "output_type": "display_data",
          "data": {
            "image/png": "[encoded data removed]",
            "text/plain": [
              "<Figure size 432x288 with 1 Axes>"
            ]
          },
          "metadata": {
            "needs_background": "light"
          }
        }
      ]
    }
  ]
}