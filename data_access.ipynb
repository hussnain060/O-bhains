{
  "nbformat": 4,
  "nbformat_minor": 0,
  "metadata": {
    "colab": {
      "name": "data_access.ipynb",
      "provenance": [],
      "collapsed_sections": [],
      "include_colab_link": true
    },
    "kernelspec": {
      "name": "python3",
      "display_name": "Python 3"
    },
    "language_info": {
      "name": "python"
    }
  },
  "cells": [
    {
      "cell_type": "markdown",
      "metadata": {
        "id": "view-in-github",
        "colab_type": "text"
      },
      "source": [
        "<a href=\"https://colab.research.google.com/github/hussnain060/O-bhains/blob/main/data_access.ipynb\" target=\"_parent\"><img src=\"https://colab.research.google.com/assets/colab-badge.svg\" alt=\"Open In Colab\"/></a>"
      ]
    },
    {
      "cell_type": "code",
      "metadata": {
        "id": "wlTLzKMI_WfQ"
      },
      "source": [
        "import pandas as pd\n",
        "import matplotlib.pyplot as plt\n",
        "import numpy as np\n",
        "import gspread\n",
        "from gspread_dataframe import get_as_dataframe,set_with_dataframe\n",
        "from google.colab import auth\n",
        "from oauth2client.client import GoogleCredentials"
      ],
      "execution_count": null,
      "outputs": []
    },
    {
      "cell_type": "code",
      "metadata": {
        "id": "c56SVj-fSbNG"
      },
      "source": [
        "auth.authenticate_user()\n",
        "gc = gspread.authorize(GoogleCredentials.get_application_default())"
      ],
      "execution_count": null,
      "outputs": []
    },
    {
      "cell_type": "markdown",
      "metadata": {
        "id": "bA6V6H4uicJn"
      },
      "source": [
        "***When below section run ... a url show click on url and login with your account it... copy sign in key and paste it into text box and press enter***\n"
      ]
    },
    {
      "cell_type": "code",
      "metadata": {
        "id": "da5M8WUiSSLP"
      },
      "source": [
        "sheet_url = \"https://docs.google.com/spreadsheets/d/1AJSGHiLQvwlPYY7RPyS7nlYwLmof70DC-NVHT-o7QtE/edit?usp=drivesdk\"\n",
        "sheet_id = gc.open_by_url(sheet_url)"
      ],
      "execution_count": null,
      "outputs": []
    },
    {
      "cell_type": "code",
      "metadata": {
        "id": "MZK_xF0fWj0r"
      },
      "source": [
        "ws = sheet_id.worksheet(\"Sheet1\")"
      ],
      "execution_count": null,
      "outputs": []
    },
    {
      "cell_type": "markdown",
      "metadata": {
        "id": "yY31DpCQFCbX"
      },
      "source": [
        "# **Google sheet Data**"
      ]
    },
    {
      "cell_type": "code",
      "metadata": {
        "colab": {
          "base_uri": "https://localhost:8080/",
          "height": 419
        },
        "id": "zYajSXL6W7Dz",
        "outputId": "44d9a889-a421-4fe4-9d13-e14ce70828e4"
      },
      "source": [
        "sheet1_df = get_as_dataframe(ws)\n",
        "sheet1_df = sheet1_df.iloc[:,:6]\n",
        "sheet1_df = sheet1_df.dropna()\n",
        "sheet1_df"
      ],
      "execution_count": null,
      "outputs": [
        {
          "output_type": "execute_result",
          "data": {
            "text/html": [
              "<div>\n",
              "<style scoped>\n",
              "    .dataframe tbody tr th:only-of-type {\n",
              "        vertical-align: middle;\n",
              "    }\n",
              "\n",
              "    .dataframe tbody tr th {\n",
              "        vertical-align: top;\n",
              "    }\n",
              "\n",
              "    .dataframe thead th {\n",
              "        text-align: right;\n",
              "    }\n",
              "</style>\n",
              "<table border=\"1\" class=\"dataframe\">\n",
              "  <thead>\n",
              "    <tr style=\"text-align: right;\">\n",
              "      <th></th>\n",
              "      <th>date</th>\n",
              "      <th>time</th>\n",
              "      <th>temperature</th>\n",
              "      <th>x_axix</th>\n",
              "      <th>y_axix</th>\n",
              "      <th>z_axix</th>\n",
              "    </tr>\n",
              "  </thead>\n",
              "  <tbody>\n",
              "    <tr>\n",
              "      <th>0</th>\n",
              "      <td>10/09/2021</td>\n",
              "      <td>10:38:32 AM</td>\n",
              "      <td>95.23</td>\n",
              "      <td>5.35</td>\n",
              "      <td>-1.26</td>\n",
              "      <td>-8.01</td>\n",
              "    </tr>\n",
              "    <tr>\n",
              "      <th>1</th>\n",
              "      <td>10/09/2021</td>\n",
              "      <td>10:38:34 AM</td>\n",
              "      <td>96.13</td>\n",
              "      <td>5.37</td>\n",
              "      <td>-1.44</td>\n",
              "      <td>-7.61</td>\n",
              "    </tr>\n",
              "    <tr>\n",
              "      <th>2</th>\n",
              "      <td>10/09/2021</td>\n",
              "      <td>10:38:36 AM</td>\n",
              "      <td>95.13</td>\n",
              "      <td>6.11</td>\n",
              "      <td>-1.91</td>\n",
              "      <td>-7.12</td>\n",
              "    </tr>\n",
              "    <tr>\n",
              "      <th>3</th>\n",
              "      <td>10/09/2021</td>\n",
              "      <td>10:38:38 AM</td>\n",
              "      <td>95.67</td>\n",
              "      <td>5.94</td>\n",
              "      <td>-1.28</td>\n",
              "      <td>-7.02</td>\n",
              "    </tr>\n",
              "    <tr>\n",
              "      <th>4</th>\n",
              "      <td>10/09/2021</td>\n",
              "      <td>10:38:40 AM</td>\n",
              "      <td>95.70</td>\n",
              "      <td>5.88</td>\n",
              "      <td>-1.65</td>\n",
              "      <td>-7.34</td>\n",
              "    </tr>\n",
              "    <tr>\n",
              "      <th>...</th>\n",
              "      <td>...</td>\n",
              "      <td>...</td>\n",
              "      <td>...</td>\n",
              "      <td>...</td>\n",
              "      <td>...</td>\n",
              "      <td>...</td>\n",
              "    </tr>\n",
              "    <tr>\n",
              "      <th>4743</th>\n",
              "      <td>10/09/2021</td>\n",
              "      <td>2:21:25 PM</td>\n",
              "      <td>97.65</td>\n",
              "      <td>-6.10</td>\n",
              "      <td>-1.81</td>\n",
              "      <td>-6.82</td>\n",
              "    </tr>\n",
              "    <tr>\n",
              "      <th>4744</th>\n",
              "      <td>10/09/2021</td>\n",
              "      <td>2:21:27 PM</td>\n",
              "      <td>97.54</td>\n",
              "      <td>-6.99</td>\n",
              "      <td>-1.39</td>\n",
              "      <td>-7.14</td>\n",
              "    </tr>\n",
              "    <tr>\n",
              "      <th>4745</th>\n",
              "      <td>10/09/2021</td>\n",
              "      <td>2:21:29 PM</td>\n",
              "      <td>97.39</td>\n",
              "      <td>-6.03</td>\n",
              "      <td>-1.93</td>\n",
              "      <td>-6.90</td>\n",
              "    </tr>\n",
              "    <tr>\n",
              "      <th>4746</th>\n",
              "      <td>10/09/2021</td>\n",
              "      <td>2:21:31 PM</td>\n",
              "      <td>97.18</td>\n",
              "      <td>-6.04</td>\n",
              "      <td>-0.23</td>\n",
              "      <td>-7.39</td>\n",
              "    </tr>\n",
              "    <tr>\n",
              "      <th>4747</th>\n",
              "      <td>10/09/2021</td>\n",
              "      <td>2:21:34 PM</td>\n",
              "      <td>96.39</td>\n",
              "      <td>-6.17</td>\n",
              "      <td>-2.01</td>\n",
              "      <td>-7.51</td>\n",
              "    </tr>\n",
              "  </tbody>\n",
              "</table>\n",
              "<p>4747 rows × 6 columns</p>\n",
              "</div>"
            ],
            "text/plain": [
              "            date         time  temperature  x_axix  y_axix  z_axix\n",
              "0     10/09/2021  10:38:32 AM        95.23    5.35   -1.26   -8.01\n",
              "1     10/09/2021  10:38:34 AM        96.13    5.37   -1.44   -7.61\n",
              "2     10/09/2021  10:38:36 AM        95.13    6.11   -1.91   -7.12\n",
              "3     10/09/2021  10:38:38 AM        95.67    5.94   -1.28   -7.02\n",
              "4     10/09/2021  10:38:40 AM        95.70    5.88   -1.65   -7.34\n",
              "...          ...          ...          ...     ...     ...     ...\n",
              "4743  10/09/2021   2:21:25 PM        97.65   -6.10   -1.81   -6.82\n",
              "4744  10/09/2021   2:21:27 PM        97.54   -6.99   -1.39   -7.14\n",
              "4745  10/09/2021   2:21:29 PM        97.39   -6.03   -1.93   -6.90\n",
              "4746  10/09/2021   2:21:31 PM        97.18   -6.04   -0.23   -7.39\n",
              "4747  10/09/2021   2:21:34 PM        96.39   -6.17   -2.01   -7.51\n",
              "\n",
              "[4747 rows x 6 columns]"
            ]
          },
          "metadata": {},
          "execution_count": 25
        }
      ]
    },
    {
      "cell_type": "markdown",
      "metadata": {
        "id": "hrvYwbJ0DtxF"
      },
      "source": [
        "# **Download DataFrame as CSV file**"
      ]
    },
    {
      "cell_type": "code",
      "metadata": {
        "id": "KgB7yU5wXEcz"
      },
      "source": [
        "sheet1_df.to_csv('file3.csv', index=False)"
      ],
      "execution_count": null,
      "outputs": []
    },
    {
      "cell_type": "code",
      "metadata": {
        "id": "lrdV0BogKfnP"
      },
      "source": [
        "sheet1_df.info()"
      ],
      "execution_count": null,
      "outputs": []
    },
    {
      "cell_type": "markdown",
      "metadata": {
        "id": "JYncFKQID4fv"
      },
      "source": [
        "# **Average Temperature and movement of cow per day**"
      ]
    },
    {
      "cell_type": "markdown",
      "metadata": {
        "id": "UjnjGaouD4c7"
      },
      "source": [
        ""
      ]
    },
    {
      "cell_type": "code",
      "metadata": {
        "id": "6XzY5pubp_ox"
      },
      "source": [
        "date_df = sheet1_df['date'].drop_duplicates()\n",
        "days_temperature_avg = []\n",
        "days_X_axis_avg = []\n",
        "days_Y_axis_avg = []\n",
        "days_Z_axis_avg = []\n",
        "for x in date_df:\n",
        "  days_data = sheet1_df.loc[sheet1_df['date'] == x]\n",
        "  days_temperature_avg.append(days_data['temperature'].sum()/len(days_data['temperature']))\n",
        "  days_X_axis_avg.append(days_data['x_axix'].sum()/len(days_data['x_axix']))\n",
        "  days_Y_axis_avg.append(days_data['y_axix'].sum()/len(days_data['y_axix']))\n",
        "  days_Z_axis_avg.append(days_data['z_axix'].sum()/len(days_data['z_axix']))\n",
        "\n",
        "\n",
        "df = pd.DataFrame({\n",
        "    'Date': date_df,\n",
        "    'Temperature_avg': days_temperature_avg,\n",
        "    'X_axis_avg': days_X_axis_avg,\n",
        "    'Y_axis_avg': days_Y_axis_avg,\n",
        "    'Z_axis_avg': days_Z_axis_avg\n",
        "  })\n",
        "df = df.round(2)"
      ],
      "execution_count": null,
      "outputs": []
    },
    {
      "cell_type": "markdown",
      "metadata": {
        "id": "zjtoRk9AEjpU"
      },
      "source": [
        "# **Final dataset**"
      ]
    },
    {
      "cell_type": "code",
      "metadata": {
        "id": "uxYOyfh3Et2W",
        "colab": {
          "base_uri": "https://localhost:8080/",
          "height": 80
        },
        "outputId": "d9d8c188-f610-40ed-e191-6f38b49dbb37"
      },
      "source": [
        "df"
      ],
      "execution_count": null,
      "outputs": [
        {
          "output_type": "execute_result",
          "data": {
            "text/html": [
              "<div>\n",
              "<style scoped>\n",
              "    .dataframe tbody tr th:only-of-type {\n",
              "        vertical-align: middle;\n",
              "    }\n",
              "\n",
              "    .dataframe tbody tr th {\n",
              "        vertical-align: top;\n",
              "    }\n",
              "\n",
              "    .dataframe thead th {\n",
              "        text-align: right;\n",
              "    }\n",
              "</style>\n",
              "<table border=\"1\" class=\"dataframe\">\n",
              "  <thead>\n",
              "    <tr style=\"text-align: right;\">\n",
              "      <th></th>\n",
              "      <th>Date</th>\n",
              "      <th>Temperature_avg</th>\n",
              "      <th>X_axis_avg</th>\n",
              "      <th>Y_axis_avg</th>\n",
              "      <th>Z_axis_avg</th>\n",
              "    </tr>\n",
              "  </thead>\n",
              "  <tbody>\n",
              "    <tr>\n",
              "      <th>0</th>\n",
              "      <td>10/09/2021</td>\n",
              "      <td>95.87</td>\n",
              "      <td>-0.54</td>\n",
              "      <td>-0.59</td>\n",
              "      <td>-7.08</td>\n",
              "    </tr>\n",
              "  </tbody>\n",
              "</table>\n",
              "</div>"
            ],
            "text/plain": [
              "         Date  Temperature_avg  X_axis_avg  Y_axis_avg  Z_axis_avg\n",
              "0  10/09/2021            95.87       -0.54       -0.59       -7.08"
            ]
          },
          "metadata": {},
          "execution_count": 32
        }
      ]
    },
    {
      "cell_type": "code",
      "metadata": {
        "id": "y6FPqWqXnKPD",
        "colab": {
          "base_uri": "https://localhost:8080/",
          "height": 350
        },
        "outputId": "ccd38f75-8937-4bea-86b9-6920f4241713"
      },
      "source": [
        "x = df['Date']\n",
        "y = df['Temperature_avg']\n",
        "plt.figure(figsize=(9,5))\n",
        "plt.plot(x,y)\n",
        "plt.xlabel('Date')\n",
        "plt.ylabel('Temperature')\n",
        "plt.title(\"Cow Temperature\")\n",
        "plt.grid(axis='y')"
      ],
      "execution_count": null,
      "outputs": [
        {
          "output_type": "display_data",
          "data": {
            "image/png": "[encoded data removed]",
            "text/plain": [
              "<Figure size 648x360 with 1 Axes>"
            ]
          },
          "metadata": {
            "needs_background": "light"
          }
        }
      ]
    },
    {
      "cell_type": "code",
      "metadata": {
        "id": "YihR8jdfntCU",
        "colab": {
          "base_uri": "https://localhost:8080/",
          "height": 367
        },
        "outputId": "4b5d2939-48ea-408b-81c0-b4cc04f427a3"
      },
      "source": [
        "tt = df['Date']\n",
        "fig, ax = plt.subplots(figsize=(9,5))\n",
        "ax.plot(tt, df.X_axis_avg, label='x-axis')\n",
        "ax.plot(tt,df.Y_axis_avg, label='y-axis')\n",
        "ax.plot(tt,df.Z_axis_avg, label='z-axis')\n",
        "ax.set_xlabel(\"Date\")\n",
        "ax.set_ylabel(\"Axis\")\n",
        "ax.set_title(\"Cow movement along with Axis\")\n",
        "ax.grid(axis='y')\n",
        "ax.legend()"
      ],
      "execution_count": null,
      "outputs": [
        {
          "output_type": "execute_result",
          "data": {
            "text/plain": [
              "<matplotlib.legend.Legend at 0x7f8ce6367110>"
            ]
          },
          "metadata": {},
          "execution_count": 44
        },
        {
          "output_type": "display_data",
          "data": {
            "image/png": "[encoded data removed]",
            "text/plain": [
              "<Figure size 648x360 with 1 Axes>"
            ]
          },
          "metadata": {
            "needs_background": "light"
          }
        }
      ]
    },
    {
      "cell_type": "code",
      "metadata": {
        "id": "rhWcbwj_oFIK",
        "colab": {
          "base_uri": "https://localhost:8080/",
          "height": 350
        },
        "outputId": "f5fd48be-b1b5-42bd-847b-36e3c7731b58"
      },
      "source": [
        "date_per_day = list(df['Date'])\n",
        "temperature = list(df['Temperature_avg'])\n",
        "  \n",
        "fig = plt.figure(figsize = (10, 5))\n",
        " \n",
        "# creating the bar plot\n",
        "plt.bar(date_per_day, temperature, color ='blue',\n",
        "        width = 0.4)\n",
        " \n",
        "plt.xlabel(\"Date\")\n",
        "plt.ylabel(\"Temperature\")\n",
        "plt.title(\"Average Temperature of Cow\")\n",
        "plt.grid(axis='y')\n",
        "plt.show()"
      ],
      "execution_count": null,
      "outputs": [
        {
          "output_type": "display_data",
          "data": {
            "image/png": "[encoded data removed]",
            "text/plain": [
              "<Figure size 720x360 with 1 Axes>"
            ]
          },
          "metadata": {
            "needs_background": "light"
          }
        }
      ]
    },
    {
      "cell_type": "code",
      "metadata": {
        "id": "1akT27uGyDoD"
      },
      "source": [
        ""
      ],
      "execution_count": null,
      "outputs": []
    }
  ]
}