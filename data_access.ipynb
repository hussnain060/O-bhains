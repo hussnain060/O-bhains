{
  "nbformat": 4,
  "nbformat_minor": 0,
  "metadata": {
    "colab": {
      "name": "data_access.ipynb",
      "provenance": [],
      "collapsed_sections": [],
      "include_colab_link": true
    },
    "kernelspec": {
      "name": "python3",
      "display_name": "Python 3"
    },
    "language_info": {
      "name": "python"
    }
  },
  "cells": [
    {
      "cell_type": "markdown",
      "metadata": {
        "id": "view-in-github",
        "colab_type": "text"
      },
      "source": [
        "<a href=\"https://colab.research.google.com/github/hussnain060/O-bhains/blob/main/data_access.ipynb\" target=\"_parent\"><img src=\"https://colab.research.google.com/assets/colab-badge.svg\" alt=\"Open In Colab\"/></a>"
      ]
    },
    {
      "cell_type": "code",
      "metadata": {
        "id": "wlTLzKMI_WfQ"
      },
      "source": [
        "import pandas as pd\n",
        "import numpy as np\n",
        "import gspread\n",
        "from gspread_dataframe import get_as_dataframe,set_with_dataframe\n",
        "from google.colab import auth\n",
        "from oauth2client.client import GoogleCredentials"
      ],
      "execution_count": 1,
      "outputs": []
    },
    {
      "cell_type": "code",
      "metadata": {
        "id": "c56SVj-fSbNG"
      },
      "source": [
        "auth.authenticate_user()\n",
        "gc = gspread.authorize(GoogleCredentials.get_application_default())"
      ],
      "execution_count": 2,
      "outputs": []
    },
    {
      "cell_type": "markdown",
      "metadata": {
        "id": "bA6V6H4uicJn"
      },
      "source": [
        "***When below section run ... a url show click on url and login with your account it... copy sign in key and paste it into text box and press enter***\n"
      ]
    },
    {
      "cell_type": "code",
      "metadata": {
        "id": "da5M8WUiSSLP"
      },
      "source": [
        "sheet_url = \"https://docs.google.com/spreadsheets/d/1AJSGHiLQvwlPYY7RPyS7nlYwLmof70DC-NVHT-o7QtE/edit?usp=drivesdk\"\n",
        "sheet_id = gc.open_by_url(sheet_url)"
      ],
      "execution_count": 6,
      "outputs": []
    },
    {
      "cell_type": "code",
      "metadata": {
        "id": "MZK_xF0fWj0r"
      },
      "source": [
        "ws = sheet_id.worksheet(\"Sheet1\")"
      ],
      "execution_count": 4,
      "outputs": []
    },
    {
      "cell_type": "code",
      "metadata": {
        "colab": {
          "base_uri": "https://localhost:8080/",
          "height": 419
        },
        "id": "zYajSXL6W7Dz",
        "outputId": "1821c0dd-7a12-41f8-8471-5fa6f688e60e"
      },
      "source": [
        "sheet1_df = get_as_dataframe(ws)\n",
        "sheet1_df = sheet1_df.iloc[:,:6]\n",
        "sheet1_df"
      ],
      "execution_count": 9,
      "outputs": [
        {
          "output_type": "execute_result",
          "data": {
            "text/html": [
              "<div>\n",
              "<style scoped>\n",
              "    .dataframe tbody tr th:only-of-type {\n",
              "        vertical-align: middle;\n",
              "    }\n",
              "\n",
              "    .dataframe tbody tr th {\n",
              "        vertical-align: top;\n",
              "    }\n",
              "\n",
              "    .dataframe thead th {\n",
              "        text-align: right;\n",
              "    }\n",
              "</style>\n",
              "<table border=\"1\" class=\"dataframe\">\n",
              "  <thead>\n",
              "    <tr style=\"text-align: right;\">\n",
              "      <th></th>\n",
              "      <th>date</th>\n",
              "      <th>time</th>\n",
              "      <th>temperature</th>\n",
              "      <th>x_axix</th>\n",
              "      <th>y_axix</th>\n",
              "      <th>z_axix</th>\n",
              "    </tr>\n",
              "  </thead>\n",
              "  <tbody>\n",
              "    <tr>\n",
              "      <th>0</th>\n",
              "      <td>10/09/2021</td>\n",
              "      <td>10:38:32 AM</td>\n",
              "      <td>95.23</td>\n",
              "      <td>5.35</td>\n",
              "      <td>-1.26</td>\n",
              "      <td>-8.01</td>\n",
              "    </tr>\n",
              "    <tr>\n",
              "      <th>1</th>\n",
              "      <td>10/09/2021</td>\n",
              "      <td>10:38:34 AM</td>\n",
              "      <td>96.13</td>\n",
              "      <td>5.37</td>\n",
              "      <td>-1.44</td>\n",
              "      <td>-7.61</td>\n",
              "    </tr>\n",
              "    <tr>\n",
              "      <th>2</th>\n",
              "      <td>10/09/2021</td>\n",
              "      <td>10:38:36 AM</td>\n",
              "      <td>95.13</td>\n",
              "      <td>6.11</td>\n",
              "      <td>-1.91</td>\n",
              "      <td>-7.12</td>\n",
              "    </tr>\n",
              "    <tr>\n",
              "      <th>3</th>\n",
              "      <td>10/09/2021</td>\n",
              "      <td>10:38:38 AM</td>\n",
              "      <td>95.67</td>\n",
              "      <td>5.94</td>\n",
              "      <td>-1.28</td>\n",
              "      <td>-7.02</td>\n",
              "    </tr>\n",
              "    <tr>\n",
              "      <th>4</th>\n",
              "      <td>10/09/2021</td>\n",
              "      <td>10:38:40 AM</td>\n",
              "      <td>95.70</td>\n",
              "      <td>5.88</td>\n",
              "      <td>-1.65</td>\n",
              "      <td>-7.34</td>\n",
              "    </tr>\n",
              "    <tr>\n",
              "      <th>...</th>\n",
              "      <td>...</td>\n",
              "      <td>...</td>\n",
              "      <td>...</td>\n",
              "      <td>...</td>\n",
              "      <td>...</td>\n",
              "      <td>...</td>\n",
              "    </tr>\n",
              "    <tr>\n",
              "      <th>4743</th>\n",
              "      <td>10/09/2021</td>\n",
              "      <td>2:21:25 PM</td>\n",
              "      <td>97.65</td>\n",
              "      <td>-6.10</td>\n",
              "      <td>-1.81</td>\n",
              "      <td>-6.82</td>\n",
              "    </tr>\n",
              "    <tr>\n",
              "      <th>4744</th>\n",
              "      <td>10/09/2021</td>\n",
              "      <td>2:21:27 PM</td>\n",
              "      <td>97.54</td>\n",
              "      <td>-6.99</td>\n",
              "      <td>-1.39</td>\n",
              "      <td>-7.14</td>\n",
              "    </tr>\n",
              "    <tr>\n",
              "      <th>4745</th>\n",
              "      <td>10/09/2021</td>\n",
              "      <td>2:21:29 PM</td>\n",
              "      <td>97.39</td>\n",
              "      <td>-6.03</td>\n",
              "      <td>-1.93</td>\n",
              "      <td>-6.90</td>\n",
              "    </tr>\n",
              "    <tr>\n",
              "      <th>4746</th>\n",
              "      <td>10/09/2021</td>\n",
              "      <td>2:21:31 PM</td>\n",
              "      <td>97.18</td>\n",
              "      <td>-6.04</td>\n",
              "      <td>-0.23</td>\n",
              "      <td>-7.39</td>\n",
              "    </tr>\n",
              "    <tr>\n",
              "      <th>4747</th>\n",
              "      <td>10/09/2021</td>\n",
              "      <td>2:21:34 PM</td>\n",
              "      <td>96.39</td>\n",
              "      <td>-6.17</td>\n",
              "      <td>-2.01</td>\n",
              "      <td>-7.51</td>\n",
              "    </tr>\n",
              "  </tbody>\n",
              "</table>\n",
              "<p>4748 rows × 6 columns</p>\n",
              "</div>"
            ],
            "text/plain": [
              "            date         time  temperature  x_axix  y_axix  z_axix\n",
              "0     10/09/2021  10:38:32 AM        95.23    5.35   -1.26   -8.01\n",
              "1     10/09/2021  10:38:34 AM        96.13    5.37   -1.44   -7.61\n",
              "2     10/09/2021  10:38:36 AM        95.13    6.11   -1.91   -7.12\n",
              "3     10/09/2021  10:38:38 AM        95.67    5.94   -1.28   -7.02\n",
              "4     10/09/2021  10:38:40 AM        95.70    5.88   -1.65   -7.34\n",
              "...          ...          ...          ...     ...     ...     ...\n",
              "4743  10/09/2021   2:21:25 PM        97.65   -6.10   -1.81   -6.82\n",
              "4744  10/09/2021   2:21:27 PM        97.54   -6.99   -1.39   -7.14\n",
              "4745  10/09/2021   2:21:29 PM        97.39   -6.03   -1.93   -6.90\n",
              "4746  10/09/2021   2:21:31 PM        97.18   -6.04   -0.23   -7.39\n",
              "4747  10/09/2021   2:21:34 PM        96.39   -6.17   -2.01   -7.51\n",
              "\n",
              "[4748 rows x 6 columns]"
            ]
          },
          "metadata": {},
          "execution_count": 9
        }
      ]
    },
    {
      "cell_type": "code",
      "metadata": {
        "id": "KgB7yU5wXEcz"
      },
      "source": [
        "sheet1_df.to_csv(file3.csv', index=False)"
      ],
      "execution_count": 11,
      "outputs": []
    },
    {
      "cell_type": "code",
      "metadata": {
        "id": "lrdV0BogKfnP"
      },
      "source": [
        ""
      ],
      "execution_count": null,
      "outputs": []
    }
  ]
}